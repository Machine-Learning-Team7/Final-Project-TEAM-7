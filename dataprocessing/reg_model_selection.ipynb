{
 "cells": [
  {
   "cell_type": "markdown",
   "metadata": {},
   "source": [
    "# REGRESSION MODEL:\n",
    "Due to nature of this process (creating a predictive model), involving coming back and forth trial and error while cleaning data and testing differet hyperparameters setup. We decided to:\n",
    "\n",
    "- Move all our helper functions to a separated file, so we can reach them from every file while keeping our files cleaner.\n",
    "- Have 2 code files to get our final model:\n",
    "    - File `reg_data_proccessing.ipynb`:<br>\n",
    "        &emsp;To read and clean the data and save it to sql database in ``./database/models.db`` file.<br>\n",
    "        &emsp;To test cleanliness of data, we'll use a random forest model.\n",
    "    - File `reg_model_selection.ipynb` to test and compare different models working with cleaned dataset.\n",
    "- Once final model version is selected, it will be serialized after trainning and stored in ``./trained_models`` folder.\n",
    "- Then trained model will be deployed to a website built with flask/jinja to perform predictions for data entered by users.\n",
    "***\n",
    "\n",
    "### MODEL CREATION\n",
    "With our data cleaned, we'll try different regression models to come up with the model to be deployed on the website.<br>\n",
    "Well test:\n",
    "- Random forest regressor\n",
    "- Knn regressor\n",
    "- Linear regressor\n",
    "\n",
    "we use cross validation to select the best version for each model, then we just use score method in the model to select the final model\n",
    "\n"
   ]
  },
  {
   "cell_type": "code",
   "execution_count": 1,
   "metadata": {},
   "outputs": [],
   "source": [
    "from myFunc import *  # importing helper functions\n",
    "# pull cleaned dataset\n",
    "con = sqlite3.connect('./../database/models.db')\n",
    "df=pd.read_sql_query('select * from reg_clean_data',con)\n",
    "# separating vector features from target\n",
    "X=df.drop(['Weight'],axis=1)\n",
    "y=df['Weight']\n",
    "# pulling out test data, we'll use it after tweeking hyperparameters in different models.\n",
    "X1,Xtest,y1,ytest=train_test_split(X, y, test_size=0.1, random_state=7)"
   ]
  },
  {
   "cell_type": "markdown",
   "metadata": {},
   "source": [
    "## Random Forest Regressor"
   ]
  },
  {
   "cell_type": "code",
   "execution_count": 2,
   "metadata": {},
   "outputs": [
    {
     "name": "stdout",
     "output_type": "stream",
     "text": [
      "-------------Cross Validation-----------------\n",
      "Accuracy -val set: 68.8046487193262\n",
      "Accuracy -test set: 72.56679794257205\n",
      "-------------Cross Validation-----------------\n",
      "Accuracy -val set: 84.78280469532905\n",
      "Accuracy -test set: 82.47817240285156\n",
      "-------------Cross Validation-----------------\n",
      "Accuracy -val set: 84.50353385387017\n",
      "Accuracy -test set: 83.27089208331955\n"
     ]
    }
   ],
   "source": [
    "rf1=RandomForestRegressor(n_estimators=55, bootstrap=False)\n",
    "cross_val(rf1,X1,y1,'r')\n",
    "rf2=RandomForestRegressor(n_estimators=150)\n",
    "cross_val(rf2,X1,y1,'r')\n",
    "rf3=RandomForestRegressor(n_estimators=200)\n",
    "cross_val(rf3,X1,y1,'r')"
   ]
  },
  {
   "cell_type": "markdown",
   "metadata": {},
   "source": [
    "## KNeighbors Regressor"
   ]
  },
  {
   "cell_type": "code",
   "execution_count": 3,
   "metadata": {},
   "outputs": [
    {
     "name": "stdout",
     "output_type": "stream",
     "text": [
      "-------------Cross Validation-----------------\n",
      "Accuracy -val set: 63.70527975498022\n",
      "Accuracy -test set: 54.17059789122498\n",
      "-------------Cross Validation-----------------\n",
      "Accuracy -val set: 59.84907320465174\n",
      "Accuracy -test set: 54.358570132422265\n",
      "-------------Cross Validation-----------------\n",
      "Accuracy -val set: 54.28952543103072\n",
      "Accuracy -test set: 44.30862217925014\n"
     ]
    }
   ],
   "source": [
    "knn1 = KNeighborsRegressor(n_neighbors=2)\n",
    "cross_val(knn1,X1,y1,'r')\n",
    "knn2 = KNeighborsRegressor(n_neighbors=10)\n",
    "cross_val(knn2,X1,y1,'r')\n",
    "knn3 = KNeighborsRegressor(n_neighbors=20)\n",
    "cross_val(knn3,X1,y1,'r')"
   ]
  },
  {
   "cell_type": "markdown",
   "metadata": {},
   "source": [
    "## Linear Regression"
   ]
  },
  {
   "cell_type": "code",
   "execution_count": 4,
   "metadata": {},
   "outputs": [
    {
     "name": "stdout",
     "output_type": "stream",
     "text": [
      "-------------Cross Validation-----------------\n",
      "Accuracy -val set: 46.75608455507852\n",
      "Accuracy -test set: 41.379509201876175\n",
      "-------------Cross Validation-----------------\n",
      "Accuracy -val set: 46.75608455507852\n",
      "Accuracy -test set: 41.379509201876175\n",
      "-------------Cross Validation-----------------\n",
      "Accuracy -val set: 46.75608455507852\n",
      "Accuracy -test set: 41.379509201876175\n"
     ]
    }
   ],
   "source": [
    "lr1=LinearRegression(fit_intercept=True, n_jobs=100)\n",
    "cross_val(lr1,X1,y1,'r')\n",
    "lr2=LinearRegression(n_jobs=10)\n",
    "cross_val(lr2,X1,y1,'r')\n",
    "lr3=LinearRegression(n_jobs=1)\n",
    "cross_val(lr3,X1,y1,'r')"
   ]
  },
  {
   "cell_type": "code",
   "execution_count": 5,
   "metadata": {},
   "outputs": [
    {
     "name": "stdout",
     "output_type": "stream",
     "text": [
      "0.845837128600671\n",
      "0.5846203196520195\n",
      "0.41128247538065243\n"
     ]
    }
   ],
   "source": [
    "print(rf3.score(Xtest,ytest))\n",
    "print(knn2.score(Xtest,ytest))\n",
    "print(lr2.score(Xtest,ytest))"
   ]
  },
  {
   "cell_type": "markdown",
   "metadata": {},
   "source": [
    "### Serializing the winner!"
   ]
  },
  {
   "cell_type": "code",
   "execution_count": 6,
   "metadata": {},
   "outputs": [],
   "source": [
    "jl_filedir = Path(\"./../trained_models\")\n",
    "jl_filedir.mkdir(parents=True,exist_ok=True)\n",
    "\n",
    "jl_filepath=jl_filedir / 'reg_obesity.joblib'\n",
    "\n",
    "joblib.dump(rf3,jl_filepath)\n",
    "\n",
    "# rf3_jl=joblib.load(jl_filepath)\n",
    "# rf3_jl.predict(Xtest)"
   ]
  }
 ],
 "metadata": {
  "kernelspec": {
   "display_name": ".venv",
   "language": "python",
   "name": "python3"
  },
  "language_info": {
   "codemirror_mode": {
    "name": "ipython",
    "version": 3
   },
   "file_extension": ".py",
   "mimetype": "text/x-python",
   "name": "python",
   "nbconvert_exporter": "python",
   "pygments_lexer": "ipython3",
   "version": "3.12.2"
  }
 },
 "nbformat": 4,
 "nbformat_minor": 2
}
